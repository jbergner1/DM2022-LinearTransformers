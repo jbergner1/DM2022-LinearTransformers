{
 "cells": [
  {
   "cell_type": "code",
   "execution_count": 4,
   "metadata": {},
   "outputs": [],
   "source": [
    "begin\n",
    "\tusing Flux\n",
    "\tusing Flux: onehot\n",
    "\tusing Flux: gradient\n",
    "\tusing Flux.Optimise: update!\n",
    "\tusing Flux: onecold\n",
    "\tusing CUDA\n",
    "\tusing Transformers\n",
    "\tusing Transformers.Basic \n",
    "    using Transformers.Datasets: batched\n",
    "    enable_gpu(false) \n",
    "\tusing Flux: @functor\n",
    "\tusing ..Transformers: Abstract3DTensor, Container, epsilon, batchedmul, batched_triu!\n",
    "\tusing Einsum\n",
    "end\n",
    "\t"
   ]
  },
  {
   "cell_type": "code",
   "execution_count": 5,
   "metadata": {},
   "outputs": [
    {
     "data": {
      "text/plain": [
       "Vocabulary{String}(13, unk=0)"
      ]
     },
     "metadata": {},
     "output_type": "display_data"
    }
   ],
   "source": [
    "#Labeling: vielleicht ändern\n",
    "\n",
    "begin\n",
    "\tlabels = map(string, 1:10)\n",
    "\tstartsym = \"11\"\n",
    "\tendsym = \"12\"\n",
    "\tunksym = \"0\"\n",
    "\tlabels = [unksym, startsym, endsym, labels...]\n",
    "\tvocab = Vocabulary(labels, unksym)\n",
    "end"
   ]
  },
  {
   "cell_type": "code",
   "execution_count": 6,
   "metadata": {},
   "outputs": [
    {
     "data": {
      "text/plain": [
       "sample_data (generic function with 1 method)"
      ]
     },
     "metadata": {},
     "output_type": "display_data"
    }
   ],
   "source": [
    "#function for generate training datas \n",
    "\n",
    "#nichts ändern\n",
    "sample_data() = (d = map(string, rand(1:10, 10)); (d,d))"
   ]
  },
  {
   "cell_type": "code",
   "execution_count": 7,
   "metadata": {},
   "outputs": [
    {
     "data": {
      "text/plain": [
       "([\"3\", \"3\", \"8\", \"2\", \"8\", \"10\", \"4\", \"9\", \"2\", \"10\"], [\"3\", \"3\", \"8\", \"2\", \"8\", \"10\", \"4\", \"9\", \"2\", \"10\"])"
      ]
     },
     "metadata": {},
     "output_type": "display_data"
    }
   ],
   "source": [
    "#nichts ändern, generieren 10 string token, nutze 1-10\n",
    "\n",
    "sample_data()"
   ]
  },
  {
   "cell_type": "code",
   "execution_count": 8,
   "metadata": {},
   "outputs": [
    {
     "data": {
      "text/plain": [
       "preprocess (generic function with 1 method)"
      ]
     },
     "metadata": {},
     "output_type": "display_data"
    }
   ],
   "source": [
    "#function for adding start & end symbol\n",
    "\n",
    "#nichts ändern\n",
    "preprocess(x) = [startsym, x..., endsym]"
   ]
  },
  {
   "cell_type": "code",
   "execution_count": 9,
   "metadata": {},
   "outputs": [
    {
     "name": "stdout",
     "output_type": "stream",
     "text": [
      "sample_ex = preprocess.(sample_data()) = ([\"11\", \"7\", \"5\", \"7\", \"2\", \"5\", \"1\", \"6\", \"1\", \"2\", \"5\", \"12\"], [\"11\", \"7\", \"5\", \"7\", \"2\", \"5\", \"1\", \"6\", \"1\", \"2\", \"5\", \"12\"])\n",
      "encoded_sample_ex = vocab(sample_ex[1]) = [2, 10, 8, 10, 5, 8, 4, 9, 4, 5, 8, 3]\n"
     ]
    },
    {
     "data": {
      "text/plain": [
       "12-element Vector{Int64}:\n",
       "  2\n",
       " 10\n",
       "  8\n",
       " 10\n",
       "  5\n",
       "  8\n",
       "  4\n",
       "  9\n",
       "  4\n",
       "  5\n",
       "  8\n",
       "  3"
      ]
     },
     "metadata": {},
     "output_type": "display_data"
    }
   ],
   "source": [
    "#nichts ändern\n",
    "\n",
    "begin\n",
    "    @show sample_ex = preprocess.(sample_data())\n",
    "    @show encoded_sample_ex = vocab(sample_ex[1]) #use Vocabulary to encode the training data, +3\n",
    "    end"
   ]
  },
  {
   "cell_type": "code",
   "execution_count": 10,
   "metadata": {},
   "outputs": [
    {
     "data": {
      "text/plain": [
       "([\"11\", \"9\", \"2\", \"4\", \"1\", \"10\", \"6\", \"3\", \"7\", \"6\", \"1\", \"12\"], [\"11\", \"9\", \"2\", \"4\", \"1\", \"10\", \"6\", \"3\", \"7\", \"6\", \"1\", \"12\"])"
      ]
     },
     "metadata": {},
     "output_type": "display_data"
    }
   ],
   "source": [
    "#nichts ändern\n",
    "sample = preprocess.(sample_data())"
   ]
  },
  {
   "cell_type": "code",
   "execution_count": 11,
   "metadata": {},
   "outputs": [
    {
     "data": {
      "text/plain": [
       "12-element Vector{Int64}:\n",
       "  2\n",
       " 12\n",
       "  5\n",
       "  7\n",
       "  4\n",
       " 13\n",
       "  9\n",
       "  6\n",
       " 10\n",
       "  9\n",
       "  4\n",
       "  3"
      ]
     },
     "metadata": {},
     "output_type": "display_data"
    }
   ],
   "source": [
    "#nichts ändern\n",
    "encoded_sample = vocab(sample[1])"
   ]
  },
  {
   "cell_type": "code",
   "execution_count": 12,
   "metadata": {},
   "outputs": [
    {
     "data": {
      "text/plain": [
       "Embed(512)"
      ]
     },
     "metadata": {},
     "output_type": "display_data"
    }
   ],
   "source": [
    "#define a Word embedding layer which turn word index to word vector\n",
    "\n",
    "#embeding vielleicht ändern\n",
    "embed = Embed(512, length(vocab)) |> gpu"
   ]
  },
  {
   "cell_type": "code",
   "execution_count": 13,
   "metadata": {},
   "outputs": [
    {
     "data": {
      "text/plain": [
       "PositionEmbedding(512)"
      ]
     },
     "metadata": {},
     "output_type": "display_data"
    }
   ],
   "source": [
    "#define a position embedding layer mentioned above\n",
    "\n",
    "#embeding vielleicht ändern\n",
    "pe = PositionEmbedding(512) |> gpu"
   ]
  },
  {
   "cell_type": "code",
   "execution_count": 14,
   "metadata": {},
   "outputs": [
    {
     "data": {
      "text/plain": [
       "embedding (generic function with 1 method)"
      ]
     },
     "metadata": {},
     "output_type": "display_data"
    }
   ],
   "source": [
    "#wrapper for get embedding\n",
    "\n",
    "#embeding vielleicht ändern\n",
    "function embedding(x)\n",
    "    we = embed(x, inv(sqrt(512)))\n",
    "    e = we .+ pe(we)\n",
    "    return e\n",
    "  end"
   ]
  },
  {
   "cell_type": "code",
   "execution_count": 15,
   "metadata": {},
   "outputs": [],
   "source": [
    "abstract type AbstractAttention end"
   ]
  },
  {
   "cell_type": "code",
   "execution_count": 16,
   "metadata": {},
   "outputs": [
    {
     "data": {
      "text/plain": [
       "create_atten_mask1 (generic function with 3 methods)"
      ]
     },
     "metadata": {},
     "output_type": "display_data"
    }
   ],
   "source": [
    "create_atten_mask1(T::Type, score::AbstractArray, ::Nothing, future) = create_atten_mask1(T, score, fill!(similar(score, size(score,1), size(score, 2), 1), one(T)), future)\n",
    "function create_atten_mask1(T::Type, score::AbstractArray, _mask::AbstractArray, future::Bool=false)\n",
    "  #size(mask) == (q, k, n, b)\n",
    "\n",
    "  # ql, kl = size(mask)\n",
    "  mask = copy(_mask)\n",
    "\n",
    "  maskval = convert(T, -1e9)\n",
    "  !future && batched_triu!(mask, 0)\n",
    "  mask .= (1 .- mask) .* maskval\n",
    "  return mask\n",
    "end"
   ]
  },
  {
   "cell_type": "code",
   "execution_count": 17,
   "metadata": {},
   "outputs": [],
   "source": [
    "Flux.@nograd create_atten_mask1"
   ]
  },
  {
   "cell_type": "code",
   "execution_count": 18,
   "metadata": {},
   "outputs": [],
   "source": [
    "struct MultiheadAttention_1{Q<:Dense, K<:Dense, V<:Dense, O<:Dense, DP<:Dropout} <: AbstractAttention\n",
    "    head::Int\n",
    "    future::Bool\n",
    "    iqproj::Q\n",
    "    ikproj::K\n",
    "    ivproj::V\n",
    "    oproj::O\n",
    "    drop::DP\n",
    "end\n",
    "\n"
   ]
  },
  {
   "cell_type": "code",
   "execution_count": 19,
   "metadata": {},
   "outputs": [],
   "source": [
    "Flux.functor(mh::MultiheadAttention_1) = (mh.iqproj, mh.ikproj, mh.ivproj, mh.oproj), m -> MultiheadAttention_1(mh.head, mh.future, m..., mh.drop)\n"
   ]
  },
  {
   "cell_type": "code",
   "execution_count": 20,
   "metadata": {},
   "outputs": [
    {
     "data": {
      "text/plain": [
       "\"    MultiheadAttention(head::Int, is::Int, hs::Int, os::Int;\\n                       future::Bool=true, pdrop = 0.1)\\nMultihead dot product Attention Layer, `head` is the number of head, \\n`is` is the input size, `hs` is the hidden size of input projection layer of each head, \\n`os` is the output size. When `future` is `false`, the k-th token can't see tokens at > k. \\n`pdrop` is the dropout rate.\\n\""
      ]
     },
     "metadata": {},
     "output_type": "display_data"
    }
   ],
   "source": [
    "\"\"\"\n",
    "    MultiheadAttention(head::Int, is::Int, hs::Int, os::Int;\n",
    "                       future::Bool=true, pdrop = 0.1)\n",
    "Multihead dot product Attention Layer, `head` is the number of head, \n",
    "`is` is the input size, `hs` is the hidden size of input projection layer of each head, \n",
    "`os` is the output size. When `future` is `false`, the k-th token can't see tokens at > k. \n",
    "`pdrop` is the dropout rate.\n",
    "\"\"\""
   ]
  },
  {
   "cell_type": "code",
   "execution_count": 21,
   "metadata": {},
   "outputs": [],
   "source": [
    "MultiheadAttention_1(head::Int,\n",
    "                   is::Int,\n",
    "                   hs::Int,\n",
    "                   os::Int;\n",
    "                   future::Bool=true, pdrop = 0.1) = MultiheadAttention_1(head,\n",
    "                                                                        future,\n",
    "                                                                        Dense(is, hs*head),\n",
    "                                                                        Dense(is, hs*head),\n",
    "                                                                        Dense(is, hs*head),\n",
    "                                                                        Dense(hs*head, os),\n",
    "                                                                        Dropout(pdrop),\n",
    "                                                                        )\n",
    "\n",
    "\n",
    "function Base.show(io::IO, mh::MultiheadAttention_1)\n",
    "    hs = div(size(mh.iqproj.weight)[1], mh.head)\n",
    "    is = size(mh.iqproj.weight)[end]\n",
    "    os = size(mh.oproj.weight)[1]\n",
    "\n",
    "    print(io, \"MultiheadAttention(\")\n",
    "    print(io, \"head=$(mh.head), \")\n",
    "    print(io, \"head_size=$(hs), \")\n",
    "    print(io, \"$(is)=>$(os)\")\n",
    "\n",
    "    if Flux.istraining()\n",
    "        print(io, \", dropout=$(mh.drop.p))\")\n",
    "    else\n",
    "        print(io, \")\")\n",
    "    end\n",
    "end"
   ]
  },
  {
   "cell_type": "code",
   "execution_count": 22,
   "metadata": {},
   "outputs": [],
   "source": [
    "function (mh::MultiheadAttention_1)(query::A1,\n",
    "    key::A2,\n",
    "    value::A3;\n",
    "    mask=nothing) where {T,\n",
    "                         A1 <: Abstract3DTensor{T},\n",
    "                         A2 <: Abstract3DTensor{T},\n",
    "                         A3 <: Abstract3DTensor{T}}\n",
    "qs = size(query)\n",
    "ks = size(key)\n",
    "vs = size(value)\n",
    "\n",
    "#size(ipq) == (h, q_seq_len, batch)\n",
    "ipq = @toNd mh.iqproj(query)\n",
    "ipk = @toNd mh.ikproj(key)\n",
    "ipv = @toNd mh.ivproj(value)\n",
    "\n",
    "h = size(ipq, 1)\n",
    "hs = div(h, mh.head)\n",
    "\n",
    "#size(ipq) == (hs, q_seq_len, head, batch)\n",
    "ipq = permutedims(reshape(ipq, hs, mh.head, qs[2], qs[3]), [1, 3, 2, 4])\n",
    "ipk = permutedims(reshape(ipk, hs, mh.head, ks[2], ks[3]), [1, 3, 2, 4])\n",
    "ipv = permutedims(reshape(ipv, hs, mh.head, vs[2], vs[3]), [1, 3, 2, 4])\n",
    "\n",
    "#size(ipq) == (hs, q_seq_len, head * batch)\n",
    "ipq = reshape(ipq, hs, qs[2], :)\n",
    "ipk = reshape(ipk, hs, ks[2], :)\n",
    "ipv = reshape(ipv, hs, vs[2], :)\n",
    "@show size(ipq)\n",
    "\n",
    "atten = attention1(ipq,ipk,ipv,\n",
    "mask,\n",
    "mh.future,\n",
    "mh.drop)\n",
    "\n",
    "atten = permutedims(reshape(atten, hs, qs[2], mh.head, qs[3]), [1, 3, 2, 4]) #size(atten) == (hs, head, ql, b)\n",
    "atten = reshape(atten, h, qs[2], qs[3]) #size(atten) == (h, ql, b)\n",
    "\n",
    "out = @toNd mh.oproj(atten)\n",
    "out #size(out) == (h, q_seq_len, batch)\n",
    "end\n",
    "\n",
    "function (mh::MultiheadAttention_1)(query::A1,\n",
    "    key::A2,\n",
    "    value::A3;\n",
    "    mask=nothing) where {T,\n",
    "                         A1 <: AbstractMatrix{T},\n",
    "                         A2 <: AbstractMatrix{T},\n",
    "                         A3 <: AbstractMatrix{T}}\n",
    "\n",
    "# size(query) == (dims, seq_len)\n",
    "ipq = mh.iqproj(query)\n",
    "ipk = mh.ikproj(key)\n",
    "ipv = mh.ivproj(value)\n",
    "\n",
    "h = size(ipq)[1] #h == hs * head\n",
    "hs = div(h, mh.head)\n",
    "\n",
    "#size(hq) == (hs, seq_len, head)\n",
    "hq = permutedims(reshape(ipq, hs, mh.head, :), [1, 3, 2])\n",
    "hk = permutedims(reshape(ipk, hs, mh.head, :), [1, 3, 2])\n",
    "hv = permutedims(reshape(ipv, hs, mh.head, :), [1, 3, 2])\n",
    "\n",
    "atten = attention1(hq, hk, hv,\n",
    "mask,\n",
    "mh.future,\n",
    "mh.drop)\n",
    "\n",
    "# size(atten) == (head*hs, seq_len)\n",
    "atten = reshape(permutedims(atten, [1, 3, 2]), h, :)\n",
    "\n",
    "mh.oproj(atten)\n",
    "end\n",
    "\n"
   ]
  },
  {
   "cell_type": "code",
   "execution_count": 23,
   "metadata": {},
   "outputs": [
    {
     "data": {
      "text/plain": [
       "apply_mask1 (generic function with 3 methods)"
      ]
     },
     "metadata": {},
     "output_type": "display_data"
    }
   ],
   "source": [
    "function apply_mask1(score, mask)\n",
    "    s = size(score)\n",
    "    ms = size(mask)\n",
    "    bxn = s[end]\n",
    "    b = ms[end]\n",
    "    if bxn == b || b == 1\n",
    "      return score .+ mask\n",
    "    else\n",
    "      return reshape(reshape(score, s[1:end-1]..., :, b) .+\n",
    "                     reshape(mask, ms[1:end-1]..., 1, b), s)\n",
    "    end\n",
    "  end\n",
    "  \n",
    "  apply_mask1(score::AbstractArray{T}, ::Nothing, future) where T = future ? score : apply_mask1(score, create_atten_mask1(T, score, nothing, future))\n",
    "  apply_mask1(score::AbstractArray{T}, mask, future) where T = apply_mask(score, create_atten_mask1(T, score, mask, future))\n",
    "  "
   ]
  },
  {
   "cell_type": "code",
   "execution_count": 24,
   "metadata": {},
   "outputs": [
    {
     "data": {
      "text/plain": [
       "nelu (generic function with 2 methods)"
      ]
     },
     "metadata": {},
     "output_type": "display_data"
    }
   ],
   "source": [
    "# of type float (to allow for integer inputs)\n",
    "function oftf(x, y)\n",
    "    oftype(float(x), y)\n",
    "end\n",
    "function nelu(x, α=1)\n",
    "    ifelse(x ≥ 0, float(x)+1, @fastmath oftf(x, α) * (exp(x) - 1)+1)\n",
    "end\n"
   ]
  },
  {
   "cell_type": "code",
   "execution_count": 25,
   "metadata": {},
   "outputs": [
    {
     "data": {
      "text/plain": [
       "512×12 Matrix{Float32}:\n",
       "  0.481661   -0.384414   -0.994159    …   0.0337147    0.776475\n",
       "  0.757078    0.958628    0.256662       -1.00124     -0.896429\n",
       "  0.549436   -0.336045   -0.930145       -0.412662     0.495713\n",
       "  0.831822    0.913477    0.381336       -0.807415    -1.03893\n",
       "  0.586672   -0.322637   -0.967603       -0.673485     0.151822\n",
       "  0.748245    0.972427    0.422751    …  -0.453607    -0.96303\n",
       "  0.604999   -0.249113   -0.941204       -0.916682    -0.198458\n",
       "  0.74205     0.963449    0.464724       -0.122719    -0.793832\n",
       "  0.535217   -0.104346   -0.887645       -1.0202      -0.589566\n",
       "  0.691545    1.04591     0.572801        0.228194    -0.571093\n",
       "  ⋮                                   ⋱   ⋮           \n",
       "  0.0750744  -0.0459193   0.0419741      -0.0287782    0.0558209\n",
       "  1.01717     0.974455    1.05192         0.960086     1.03871\n",
       "  0.0020543  -0.034726    0.0449036   …  -0.0743134    0.0225059\n",
       "  1.02572     0.957557    0.928084        1.03885      0.990236\n",
       " -0.0149785  -0.0165091  -0.00483734      0.00498493  -0.00309143\n",
       "  0.993056    0.924039    0.943136        1.03326      0.976077\n",
       "  0.019069    0.0157327   0.0406665      -0.016131    -0.0524617\n",
       "  0.990919    0.97138     1.07215     …   0.96134      0.97002\n",
       "  0.0217769   0.029947   -0.0650193       0.12051      0.025181"
      ]
     },
     "metadata": {},
     "output_type": "display_data"
    }
   ],
   "source": [
    "x = embedding(encoded_sample)"
   ]
  },
  {
   "cell_type": "code",
   "execution_count": 26,
   "metadata": {},
   "outputs": [
    {
     "data": {
      "text/plain": [
       "splitHeads (generic function with 1 method)"
      ]
     },
     "metadata": {},
     "output_type": "display_data"
    }
   ],
   "source": [
    "function splitHeads(x, batch_size, head, depth)\n",
    "    x = reshape(x, (batch_size, :, head, depth))\n",
    "end    "
   ]
  },
  {
   "cell_type": "code",
   "execution_count": 27,
   "metadata": {},
   "outputs": [
    {
     "data": {
      "text/plain": [
       "attention1 (generic function with 1 method)"
      ]
     },
     "metadata": {},
     "output_type": "display_data"
    }
   ],
   "source": [
    "#hier anstatt softmax linear\n",
    "function attention1(query::A1,\n",
    "    key::A2,\n",
    "    value::A3,\n",
    "    mask, future::Bool,\n",
    "    dropout) where {T,\n",
    "                    A1 <: Abstract3DTensor{T},\n",
    "                    A2 <: Abstract3DTensor{T},\n",
    "                    A3 <: Abstract3DTensor{T}}\n",
    "#size(query) == (dims, {q,k}_seq_len, batch) == size(key) == size(value)\n",
    "#size(score) == (k_seq_len, q_seq_len, batch)\n",
    "#=\n",
    "dk = size(key, 1)\n",
    "score = batchedmul(key, query; transA = true) \n",
    "score = score ./ convert(T, sqrt(dk))\n",
    "\n",
    "score = apply_mask1(score, mask, future)\n",
    "score = softmax(score; dims=1)\n",
    "dropout !== nothing && (score = dropout(score))\n",
    "batchedmul(value, score) #size(return) == (dims, q_seq_len, batch)\n",
    "=#\n",
    "query = permutedims(query,(3,2,1))\n",
    "key = permutedims(key,(3,2,1))\n",
    "value = permutedims(value,(3,2,1))\n",
    "\n",
    "qs = size(query)\n",
    "ks = size(key)\n",
    "vs = size(value)\n",
    "\n",
    "#depth = div(mh.size, mh.head)\n",
    "depth = div(512, 8)   \n",
    "\n",
    "#query = nelu(splitHeads(query, qs[1], mh.head, depth))\n",
    "#key = nelu(splitHeads(key, qs[1], mh.head, depth))\n",
    "#value = splitHeads(value, qs[1], mh.head, depth)\n",
    "\n",
    "query = nelu(splitHeads(query, qs[1], 8, depth))\n",
    "key = nelu(splitHeads(key, qs[1], 8, depth))\n",
    "value = splitHeads(value, qs[1], 8, depth)\n",
    "\n",
    "@einsum k_v[m,d,e,h] := key[m,j,h,d]*value[m,j,h,e]\n",
    "\n",
    "k_reduced = sum(key, dims=1) .+ 1e-8\n",
    "\n",
    "@einsum z_1[m,l,h] := query[m,l,h,d]*k_reduced[m,h,d]\n",
    "\n",
    "z = 1/z_1\n",
    "\n",
    "@einsum output[m,l,h,e] := query[m,l,h,d]*k_v[m,d,e,h]*z[m,l,h]\n",
    "\n",
    "#output = reshape(output, (qs[1], qs[2], mh.head*depth))\n",
    "output = reshape(output, (qs[1], qs[2], 8*depth))\n",
    "\n",
    "output = permutedims(output,(3,2,1))\n",
    "\n",
    "end"
   ]
  },
  {
   "cell_type": "code",
   "execution_count": 28,
   "metadata": {},
   "outputs": [],
   "source": [
    "abstract type AbstractTransformer end"
   ]
  },
  {
   "cell_type": "code",
   "execution_count": 29,
   "metadata": {},
   "outputs": [],
   "source": [
    "struct PwFFN{Di<:Dense, Do<:Dense}\n",
    "    din::Di\n",
    "    dout::Do\n",
    "end\n",
    "\n",
    "@functor PwFFN\n",
    "\n",
    "\n",
    "\"just a wrapper for two dense layer.\"\n",
    "function PwFFN(size::Int, h::Int, act = nelu)\n",
    "    PwFFN(\n",
    "    Dense(size, h, act),\n",
    "    Dense(h, size)\n",
    ")\n",
    "end\n",
    "function (pw::PwFFN)(x::AbstractMatrix)\n",
    "  #size(x) == (dims, seq_len)\n",
    "  pw.dout(pw.din(x))\n",
    "end\n",
    "\n",
    "function (pw::PwFFN)(x::A) where {T, N, A<:AbstractArray{T, N}}\n",
    "  new_x = reshape(x, size(x, 1), :)\n",
    "  y = pw(new_x)\n",
    "  return reshape(y, Base.setindex(size(x), size(y, 1), 1))\n",
    "end"
   ]
  },
  {
   "cell_type": "code",
   "execution_count": 30,
   "metadata": {},
   "outputs": [],
   "source": [
    "struct Transformer1{MA<:MultiheadAttention_1, LA<:LayerNorm, P<:PwFFN, LP<:LayerNorm, DP<:Dropout} <: AbstractTransformer\n",
    "    mh::MA\n",
    "    mhn::LA\n",
    "    pw::P\n",
    "    pwn::LP\n",
    "    drop::DP\n",
    "end\n",
    "\n",
    "@functor Transformer1\n",
    "\n",
    "\n",
    "\"\"\"\n",
    "    Transformer(size::Int, head::Int, ps::Int;\n",
    "                future::Bool = true, act = relu, pdrop = 0.1)\n",
    "    Transformer(size::Int, head::Int, hs::Int, ps::Int;\n",
    "                future::Bool = true, act = relu, pdrop = 0.1)  \n",
    "\n",
    "Transformer layer.\n",
    "\n",
    "`size` is the input size. if `hs` is not specify, use `div(size, head)` as the hidden size of multi-head attention. \n",
    "`ps` is the hidden size & `act` is the activation function of the positionwise feedforward layer. \n",
    "When `future` is `false`, the k-th token can't see the j-th tokens where j > k. `pdrop` is the dropout rate.\n",
    "\"\"\"\n",
    "\n",
    "########\n",
    "#ganze Funktion von Transformer ändern\n",
    "########\n",
    "function Transformer1(size::Int, head::Int, ps::Int; future::Bool = true, act = relu, pdrop = 0.1)  #relu vielleicht wieder auf elu ändern\n",
    "    rem(size, head) != 0 && error(\"size not divisible by head\")\n",
    "    Transformer1(size, head, div(size, head), ps;future=future, act=act, pdrop=pdrop)\n",
    "end\n",
    "\n",
    "Transformer1(size::Int, head::Int, hs::Int, ps::Int; future::Bool = true, act = relu, pdrop = 0.1) = Transformer1(\n",
    "    MultiheadAttention_1(head, size, hs, size; future=future, pdrop=pdrop),\n",
    "    LayerNorm(size),\n",
    "    PwFFN(size, ps, act),\n",
    "    LayerNorm(size),\n",
    "    Dropout(pdrop),     #braucht man das? vielleicht nicht\n",
    ")\n",
    "\n",
    "function (t::Transformer1)(x::A, mask=nothing) where {T, N, A<:AbstractArray{T, N}}\n",
    "    dropout = t.drop\n",
    "    a = t.mh(x, x, x; mask=mask)\n",
    "    a = dropout(a)\n",
    "    res_a = x + a\n",
    "    res_a = t.mhn(res_a)\n",
    "    pwffn = t.pw(res_a)\n",
    "    pwffn = dropout(pwffn)\n",
    "    res_pwffn = res_a + pwffn\n",
    "    res_pwffn = t.pwn(res_pwffn)\n",
    "    res_pwffn\n",
    "end\n",
    "\n",
    "function Base.show(io::IO, t::Transformer1) \n",
    "    hs = div(size(t.mh.iqproj.weight)[1], t.mh.head)\n",
    "    h, ps = size(t.pw.dout.weight)\n",
    "\n",
    "    print(io, \"Transformer(\")\n",
    "    print(io, \"head=$(t.mh.head), \")\n",
    "    print(io, \"head_size=$(hs), \")\n",
    "    print(io, \"pwffn_size=$(ps), \")\n",
    "    print(io, \"size=$(h)\")\n",
    "    if Flux.istraining()\n",
    "        print(io, \", dropout=$(t.drop.p))\")\n",
    "    else\n",
    "        print(io, \")\")\n",
    "    end\n",
    "end\n"
   ]
  },
  {
   "cell_type": "code",
   "execution_count": 31,
   "metadata": {},
   "outputs": [],
   "source": [
    "###########\n",
    "    #auch diese Funktion ändern\n",
    "    ###############\n",
    "    struct TransformerDecoder1{MA<:MultiheadAttention_1, LA<:LayerNorm,\n",
    "        IMA<:MultiheadAttention_1, ILA<:LayerNorm,\n",
    "        P<:PwFFN, LP<:LayerNorm, DP<:Dropout} <: AbstractTransformer\n",
    "mh::MA\n",
    "mhn::LA\n",
    "imh::IMA\n",
    "imhn::ILA\n",
    "pw::P\n",
    "pwn::LP\n",
    "drop::DP\n",
    "end\n",
    "\n",
    "@functor TransformerDecoder1\n",
    "\n",
    "\"\"\"\n",
    "TransformerDecoder(size::Int, head::Int, ps::Int; act = relu, pdrop = 0.1)\n",
    "TransformerDecoder(size::Int, head::Int, hs::Int, ps::Int; act = relu, pdrop = 0.1)\n",
    "\n",
    "TransformerDecoder layer. Decode the value from a Encoder.\n",
    "\n",
    "`size` is the input size. if `hs` is not specify, use `div(size, head)` as the hidden size of multi-head attention. \n",
    "`ps` is the hidden size & `act` is the activation function of the positionwise feedforward layer. \n",
    "`pdrop` is the dropout rate.\n",
    "\"\"\"\n",
    "function TransformerDecoder1(size::Int, head::Int, ps::Int; act = relu, pdrop = 0.1)\n",
    "rem(size, head) != 0 && error(\"size not divisible by head\")\n",
    "TransformerDecoder1(size, head, div(size, head), ps; act=act, pdrop=pdrop)\n",
    "end\n",
    "\n",
    "TransformerDecoder1(size::Int, head::Int, hs::Int, ps::Int; act = relu, pdrop = 0.1) = TransformerDecoder1(\n",
    "MultiheadAttention_1(head, size, hs, size; future=false, pdrop=pdrop),\n",
    "LayerNorm(size),\n",
    "MultiheadAttention_1(head, size, hs, size; future=true, pdrop=pdrop), #future = true --> Unterschied zu oben??\n",
    "LayerNorm(size),\n",
    "PwFFN(size, ps, act),\n",
    "LayerNorm(size),\n",
    "Dropout(pdrop),\n",
    ")\n",
    "\n",
    "function (td::TransformerDecoder1)(x::AbstractArray{T,N}, m, mask=nothing) where {T,N}\n",
    "dropout = td.drop\n",
    "a = td.mh(x,x,x)\n",
    "a = dropout(a)\n",
    "res_a = x + a\n",
    "res_a = td.mhn(res_a)\n",
    "\n",
    "ia = td.imh(res_a, m, m, mask=mask)\n",
    "ia = dropout(ia)\n",
    "res_ia = res_a + ia\n",
    "res_ia = td.imhn(res_ia)\n",
    "\n",
    "pwffn = td.pw(res_ia)\n",
    "pwffn = dropout(pwffn)\n",
    "res_pwffn = res_ia + pwffn\n",
    "res_pwffn = td.pwn(res_pwffn)\n",
    "res_pwffn\n",
    "end\n",
    "\n",
    "function Base.show(io::IO, td::TransformerDecoder1)\n",
    "hs = div(size(td.imh.iqproj.weight)[1], td.imh.head)\n",
    "h, ps = size(td.pw.dout.weight)\n",
    "\n",
    "print(io, \"TransformerDecoder(\")\n",
    "print(io, \"head=$(td.mh.head), \")\n",
    "print(io, \"head_size=$(hs), \")\n",
    "print(io, \"pwffn_size=$(ps), \")\n",
    "print(io, \"size=$(h)\")\n",
    "if Flux.istraining()\n",
    "print(io, \", dropout=$(td.drop.p))\")\n",
    "else\n",
    "print(io, \")\")\n",
    "end\n",
    "end"
   ]
  },
  {
   "cell_type": "code",
   "execution_count": 32,
   "metadata": {},
   "outputs": [
    {
     "data": {
      "text/plain": [
       "Transformer(head=8, head_size=64, pwffn_size=2048, size=512)"
      ]
     },
     "metadata": {},
     "output_type": "display_data"
    }
   ],
   "source": [
    "#define 2 layer of transformer\n",
    "\n",
    "#layer auf jeden Fall ändern\n",
    "encode_t1 = Transformer1(512, 8, 64, 2048) |> gpu"
   ]
  },
  {
   "cell_type": "code",
   "execution_count": 33,
   "metadata": {},
   "outputs": [
    {
     "data": {
      "text/plain": [
       "Transformer(head=8, head_size=64, pwffn_size=2048, size=512)"
      ]
     },
     "metadata": {},
     "output_type": "display_data"
    }
   ],
   "source": [
    "encode_t2 = Transformer1(512, 8, 64, 2048) |> gpu"
   ]
  },
  {
   "cell_type": "code",
   "execution_count": 34,
   "metadata": {},
   "outputs": [
    {
     "data": {
      "text/plain": [
       "Transformer(head=8, head_size=64, pwffn_size=2048, size=512)"
      ]
     },
     "metadata": {},
     "output_type": "display_data"
    }
   ],
   "source": [
    "encode_t3 = Transformer1(512, 8, 64, 2048) |> gpu"
   ]
  },
  {
   "cell_type": "code",
   "execution_count": 35,
   "metadata": {},
   "outputs": [
    {
     "data": {
      "text/plain": [
       "Transformer(head=8, head_size=64, pwffn_size=2048, size=512)"
      ]
     },
     "metadata": {},
     "output_type": "display_data"
    }
   ],
   "source": [
    "encode_t4 = Transformer1(512, 8, 64, 2048) |> gpu"
   ]
  },
  {
   "cell_type": "code",
   "execution_count": 36,
   "metadata": {},
   "outputs": [
    {
     "data": {
      "text/plain": [
       "TransformerDecoder(head=8, head_size=64, pwffn_size=2048, size=512)"
      ]
     },
     "metadata": {},
     "output_type": "display_data"
    }
   ],
   "source": [
    "#define 2 layer of transformer decoder\n",
    "\n",
    "#layer auf jeden Fall ändern\n",
    "decode_t1 = TransformerDecoder1(512, 8, 64, 2048, act=nelu) |> gpu"
   ]
  },
  {
   "cell_type": "code",
   "execution_count": 37,
   "metadata": {},
   "outputs": [
    {
     "data": {
      "text/plain": [
       "TransformerDecoder(head=8, head_size=64, pwffn_size=2048, size=512)"
      ]
     },
     "metadata": {},
     "output_type": "display_data"
    }
   ],
   "source": [
    "decode_t2 = TransformerDecoder1(512, 8, 64, 2048, act=nelu) |> gpu"
   ]
  },
  {
   "cell_type": "code",
   "execution_count": 38,
   "metadata": {},
   "outputs": [
    {
     "data": {
      "text/plain": [
       "TransformerDecoder(head=8, head_size=64, pwffn_size=2048, size=512)"
      ]
     },
     "metadata": {},
     "output_type": "display_data"
    }
   ],
   "source": [
    "decode_t3 = TransformerDecoder1(512, 8, 64, 2048, act=nelu) |> gpu"
   ]
  },
  {
   "cell_type": "code",
   "execution_count": 39,
   "metadata": {},
   "outputs": [
    {
     "data": {
      "text/plain": [
       "TransformerDecoder(head=8, head_size=64, pwffn_size=2048, size=512)"
      ]
     },
     "metadata": {},
     "output_type": "display_data"
    }
   ],
   "source": [
    "decode_t4 = TransformerDecoder1(512, 8, 64, 2048, act=nelu) |> gpu"
   ]
  },
  {
   "cell_type": "code",
   "execution_count": 40,
   "metadata": {},
   "outputs": [
    {
     "data": {
      "text/plain": [
       "Positionwise(Dense(512, 13), logsoftmax)"
      ]
     },
     "metadata": {},
     "output_type": "display_data"
    }
   ],
   "source": [
    "#define the layer to get the final output probabilities\n",
    "\n",
    "#ÄNDERN\n",
    "linear = Positionwise(Dense(512, length(vocab)), logsoftmax) |> gpu"
   ]
  },
  {
   "cell_type": "code",
   "execution_count": 41,
   "metadata": {},
   "outputs": [
    {
     "data": {
      "text/plain": [
       "encoder_forward (generic function with 1 method)"
      ]
     },
     "metadata": {},
     "output_type": "display_data"
    }
   ],
   "source": [
    "#neue Layer einfügen\n",
    "function encoder_forward(x)\n",
    "    e = embedding(x)\n",
    "    t1 = encode_t1(e)\n",
    "    t2 = encode_t2(t1)\n",
    "    t3 = encode_t2(t2)\n",
    "    t4 = encode_t2(t3)\n",
    "    return t2\n",
    "  end"
   ]
  },
  {
   "cell_type": "code",
   "execution_count": 42,
   "metadata": {},
   "outputs": [
    {
     "data": {
      "text/plain": [
       "decoder_forward (generic function with 1 method)"
      ]
     },
     "metadata": {},
     "output_type": "display_data"
    }
   ],
   "source": [
    "#neue Layer einfügen\n",
    "function decoder_forward(x, m)\n",
    "    e = embedding(x)\n",
    "    t1 = decode_t1(e, m)\n",
    "    t2 = decode_t2(t1, m)\n",
    "    t3 = decode_t3(t2, m)\n",
    "    t4 = decode_t4(t3, m)\n",
    "    p = linear(t4)\n",
    "    return p\n",
    "  end"
   ]
  },
  {
   "cell_type": "code",
   "execution_count": 43,
   "metadata": {},
   "outputs": [
    {
     "ename": "UndefVarError",
     "evalue": "UndefVarError: mh not defined",
     "output_type": "error",
     "traceback": [
      "UndefVarError: mh not defined\n",
      "\n",
      "Stacktrace:\n",
      "  [1] attention1(query::Array{Float32, 3}, key::Array{Float32, 3}, value::Array{Float32, 3}, mask::Nothing, future::Bool, dropout::Dropout{Float64, Colon})\n",
      "    @ Main c:\\Users\\tyto4\\OneDrive\\Desktop\\testattention.ipynb:30\n",
      "  [2] (::MultiheadAttention_1{Dense{typeof(identity), Matrix{Float32}, Vector{Float32}}, Dense{typeof(identity), Matrix{Float32}, Vector{Float32}}, Dense{typeof(identity), Matrix{Float32}, Vector{Float32}}, Dense{typeof(identity), Matrix{Float32}, Vector{Float32}}, Dropout{Float64, Colon}})(query::Matrix{Float32}, key::Matrix{Float32}, value::Matrix{Float32}; mask::Nothing)\n",
      "    @ Main c:\\Users\\tyto4\\OneDrive\\Desktop\\testattention.ipynb:64\n",
      "  [3] (::Transformer1{MultiheadAttention_1{Dense{typeof(identity), Matrix{Float32}, Vector{Float32}}, Dense{typeof(identity), Matrix{Float32}, Vector{Float32}}, Dense{typeof(identity), Matrix{Float32}, Vector{Float32}}, Dense{typeof(identity), Matrix{Float32}, Vector{Float32}}, Dropout{Float64, Colon}}, LayerNorm{typeof(identity), Flux.Diagonal{Vector{Float32}}, Float32, 1}, PwFFN{Dense{typeof(relu), Matrix{Float32}, Vector{Float32}}, Dense{typeof(identity), Matrix{Float32}, Vector{Float32}}}, LayerNorm{typeof(identity), Flux.Diagonal{Vector{Float32}}, Float32, 1}, Dropout{Float64, Colon}})(x::Matrix{Float32}, mask::Nothing)\n",
      "    @ Main c:\\Users\\tyto4\\OneDrive\\Desktop\\testattention.ipynb:43\n",
      "  [4] (::Transformer1{MultiheadAttention_1{Dense{typeof(identity), Matrix{Float32}, Vector{Float32}}, Dense{typeof(identity), Matrix{Float32}, Vector{Float32}}, Dense{typeof(identity), Matrix{Float32}, Vector{Float32}}, Dense{typeof(identity), Matrix{Float32}, Vector{Float32}}, Dropout{Float64, Colon}}, LayerNorm{typeof(identity), Flux.Diagonal{Vector{Float32}}, Float32, 1}, PwFFN{Dense{typeof(relu), Matrix{Float32}, Vector{Float32}}, Dense{typeof(identity), Matrix{Float32}, Vector{Float32}}}, LayerNorm{typeof(identity), Flux.Diagonal{Vector{Float32}}, Float32, 1}, Dropout{Float64, Colon}})(x::Matrix{Float32})\n",
      "    @ Main c:\\Users\\tyto4\\OneDrive\\Desktop\\testattention.ipynb:42\n",
      "  [5] encoder_forward(x::Vector{Int64})\n",
      "    @ Main c:\\Users\\tyto4\\OneDrive\\Desktop\\testattention.ipynb:4\n",
      "  [6] top-level scope\n",
      "    @ c:\\Users\\tyto4\\OneDrive\\Desktop\\testattention.ipynb:2\n",
      "  [7] eval\n",
      "    @ .\\boot.jl:373 [inlined]\n",
      "  [8] include_string(mapexpr::typeof(REPL.softscope), mod::Module, code::String, filename::String)\n",
      "    @ Base .\\loading.jl:1196\n",
      "  [9] #invokelatest#2\n",
      "    @ .\\essentials.jl:716 [inlined]\n",
      " [10] invokelatest\n",
      "    @ .\\essentials.jl:714 [inlined]\n",
      " [11] (::VSCodeServer.var\"#158#159\"{VSCodeServer.NotebookRunCellArguments, String})()\n",
      "    @ VSCodeServer c:\\Users\\tyto4\\.vscode\\extensions\\julialang.language-julia-insider-1.6.2\\scripts\\packages\\VSCodeServer\\src\\serve_notebook.jl:18\n",
      " [12] withpath(f::VSCodeServer.var\"#158#159\"{VSCodeServer.NotebookRunCellArguments, String}, path::String)\n",
      "    @ VSCodeServer c:\\Users\\tyto4\\.vscode\\extensions\\julialang.language-julia-insider-1.6.2\\scripts\\packages\\VSCodeServer\\src\\repl.jl:184\n",
      " [13] notebook_runcell_request(conn::VSCodeServer.JSONRPC.JSONRPCEndpoint{Base.PipeEndpoint, Base.PipeEndpoint}, params::VSCodeServer.NotebookRunCellArguments)\n",
      "    @ VSCodeServer c:\\Users\\tyto4\\.vscode\\extensions\\julialang.language-julia-insider-1.6.2\\scripts\\packages\\VSCodeServer\\src\\serve_notebook.jl:14\n",
      " [14] dispatch_msg(x::VSCodeServer.JSONRPC.JSONRPCEndpoint{Base.PipeEndpoint, Base.PipeEndpoint}, dispatcher::VSCodeServer.JSONRPC.MsgDispatcher, msg::Dict{String, Any})\n",
      "    @ VSCodeServer.JSONRPC c:\\Users\\tyto4\\.vscode\\extensions\\julialang.language-julia-insider-1.6.2\\scripts\\packages\\JSONRPC\\src\\typed.jl:67\n",
      " [15] serve_notebook(pipename::String; crashreporting_pipename::String)\n",
      "    @ VSCodeServer c:\\Users\\tyto4\\.vscode\\extensions\\julialang.language-julia-insider-1.6.2\\scripts\\packages\\VSCodeServer\\src\\serve_notebook.jl:95\n",
      " [16] top-level scope\n",
      "    @ c:\\Users\\tyto4\\.vscode\\extensions\\julialang.language-julia-insider-1.6.2\\scripts\\notebook\\notebook.jl:14\n",
      " [17] include(mod::Module, _path::String)\n",
      "    @ Base .\\Base.jl:418\n",
      " [18] exec_options(opts::Base.JLOptions)\n",
      "    @ Base .\\client.jl:292\n",
      " [19] _start()\n",
      "    @ Base .\\client.jl:495"
     ]
    }
   ],
   "source": [
    "#bleibt so\n",
    "enc = encoder_forward(encoded_sample);"
   ]
  },
  {
   "cell_type": "code",
   "execution_count": 44,
   "metadata": {},
   "outputs": [
    {
     "ename": "UndefVarError",
     "evalue": "UndefVarError: enc not defined",
     "output_type": "error",
     "traceback": [
      "UndefVarError: enc not defined\n",
      "\n",
      "Stacktrace:\n",
      "  [1] top-level scope\n",
      "    @ c:\\Users\\tyto4\\OneDrive\\Desktop\\testattention.ipynb:2\n",
      "  [2] eval\n",
      "    @ .\\boot.jl:373 [inlined]\n",
      "  [3] include_string(mapexpr::typeof(REPL.softscope), mod::Module, code::String, filename::String)\n",
      "    @ Base .\\loading.jl:1196\n",
      "  [4] #invokelatest#2\n",
      "    @ .\\essentials.jl:716 [inlined]\n",
      "  [5] invokelatest\n",
      "    @ .\\essentials.jl:714 [inlined]\n",
      "  [6] (::VSCodeServer.var\"#158#159\"{VSCodeServer.NotebookRunCellArguments, String})()\n",
      "    @ VSCodeServer c:\\Users\\tyto4\\.vscode\\extensions\\julialang.language-julia-insider-1.6.2\\scripts\\packages\\VSCodeServer\\src\\serve_notebook.jl:18\n",
      "  [7] withpath(f::VSCodeServer.var\"#158#159\"{VSCodeServer.NotebookRunCellArguments, String}, path::String)\n",
      "    @ VSCodeServer c:\\Users\\tyto4\\.vscode\\extensions\\julialang.language-julia-insider-1.6.2\\scripts\\packages\\VSCodeServer\\src\\repl.jl:184\n",
      "  [8] notebook_runcell_request(conn::VSCodeServer.JSONRPC.JSONRPCEndpoint{Base.PipeEndpoint, Base.PipeEndpoint}, params::VSCodeServer.NotebookRunCellArguments)\n",
      "    @ VSCodeServer c:\\Users\\tyto4\\.vscode\\extensions\\julialang.language-julia-insider-1.6.2\\scripts\\packages\\VSCodeServer\\src\\serve_notebook.jl:14\n",
      "  [9] dispatch_msg(x::VSCodeServer.JSONRPC.JSONRPCEndpoint{Base.PipeEndpoint, Base.PipeEndpoint}, dispatcher::VSCodeServer.JSONRPC.MsgDispatcher, msg::Dict{String, Any})\n",
      "    @ VSCodeServer.JSONRPC c:\\Users\\tyto4\\.vscode\\extensions\\julialang.language-julia-insider-1.6.2\\scripts\\packages\\JSONRPC\\src\\typed.jl:67\n",
      " [10] serve_notebook(pipename::String; crashreporting_pipename::String)\n",
      "    @ VSCodeServer c:\\Users\\tyto4\\.vscode\\extensions\\julialang.language-julia-insider-1.6.2\\scripts\\packages\\VSCodeServer\\src\\serve_notebook.jl:95\n",
      " [11] top-level scope\n",
      "    @ c:\\Users\\tyto4\\.vscode\\extensions\\julialang.language-julia-insider-1.6.2\\scripts\\notebook\\notebook.jl:14\n",
      " [12] include(mod::Module, _path::String)\n",
      "    @ Base .\\Base.jl:418\n",
      " [13] exec_options(opts::Base.JLOptions)\n",
      "    @ Base .\\client.jl:292\n",
      " [14] _start()\n",
      "    @ Base .\\client.jl:495"
     ]
    }
   ],
   "source": [
    "#bleibt so\n",
    "probs = decoder_forward(encoded_sample, enc);"
   ]
  },
  {
   "cell_type": "code",
   "execution_count": 45,
   "metadata": {},
   "outputs": [
    {
     "data": {
      "text/plain": [
       "smooth (generic function with 1 method)"
      ]
     },
     "metadata": {},
     "output_type": "display_data"
    }
   ],
   "source": [
    "#hier vielleicht etwas ändern --> herausfinden, was diese funktion macht\n",
    "function smooth(et)\n",
    "    sm = fill!(similar(et, Float32), 1e-6/size(embed, 2))\n",
    "    p = sm .* (1 .+ -et)\n",
    "    label = p .+ et .* (1 - convert(Float32, 1e-6))\n",
    "    label\n",
    "end"
   ]
  },
  {
   "cell_type": "code",
   "execution_count": 46,
   "metadata": {},
   "outputs": [],
   "source": [
    "Flux.@nograd smooth"
   ]
  },
  {
   "cell_type": "code",
   "execution_count": 47,
   "metadata": {},
   "outputs": [
    {
     "data": {
      "text/plain": [
       "loss (generic function with 1 method)"
      ]
     },
     "metadata": {},
     "output_type": "display_data"
    }
   ],
   "source": [
    "#define loss function\n",
    "\n",
    "#ÄNDERN\n",
    "function loss(x, y)\n",
    "    label = onehot(vocab, y) #turn the index to one-hot encoding\n",
    "    label = smooth(label) #perform label smoothing\n",
    "    enc = encoder_forward(x)\n",
    "    probs = decoder_forward(y, enc)\n",
    "    l = logcrossentropy(label[:, 2:end, :], probs[:, 1:end-1, :])  #VA: geändert\n",
    "    return l\n",
    "  end"
   ]
  },
  {
   "cell_type": "code",
   "execution_count": 48,
   "metadata": {},
   "outputs": [],
   "source": [
    "#collect all the parameters\n",
    "\n",
    "#Layer neu einfügen\n",
    "ps = params(embed, pe, encode_t1, encode_t2, encode_t3, encode_t4, decode_t1, decode_t2, decode_t3, decode_t4, linear);"
   ]
  },
  {
   "cell_type": "code",
   "execution_count": 49,
   "metadata": {},
   "outputs": [
    {
     "data": {
      "text/plain": [
       "ADAM(0.0001, (0.9, 0.999), IdDict{Any, Any}())"
      ]
     },
     "metadata": {},
     "output_type": "display_data"
    }
   ],
   "source": [
    "opt = ADAM(1e-4) #bleibt"
   ]
  },
  {
   "cell_type": "code",
   "execution_count": 50,
   "metadata": {},
   "outputs": [
    {
     "data": {
      "text/plain": [
       "train! (generic function with 1 method)"
      ]
     },
     "metadata": {},
     "output_type": "display_data"
    }
   ],
   "source": [
    "#define training loop\n",
    "\n",
    "#ÄNDERN siehe Paper Kapitel 4.1\n",
    "function train!()\n",
    "    @info \"start training\"\n",
    "    for i = 1:3000\n",
    "      data = batched([sample_data() for i = 1:32]) #create 32 random sample and batched\n",
    "      x, y = preprocess.(data[1]), preprocess.(data[2])\n",
    "      x, y = vocab(x), vocab(y) #encode the data\n",
    "      x, y = todevice(x, y) #move to gpu\n",
    "      grad = gradient(()->loss(x, y), ps)\n",
    "      if i % 8 == 0\n",
    "          l = loss(x, y)\n",
    "          println(\"loss = $l\")\n",
    "      end\n",
    "      update!(opt, ps, grad)\n",
    "    end\n",
    "  end"
   ]
  },
  {
   "cell_type": "code",
   "execution_count": 51,
   "metadata": {},
   "outputs": [
    {
     "ename": "UndefVarError",
     "evalue": "UndefVarError: mh not defined",
     "output_type": "error",
     "traceback": [
      "UndefVarError: mh not defined\n",
      "\n",
      "Stacktrace:\n",
      "  [1] size\n",
      "    @ .\\array.jl:150 [inlined]\n",
      "  [2] #93\n",
      "    @ .\\array.jl:153 [inlined]\n",
      "  [3] ntuple\n",
      "    @ .\\ntuple.jl:50 [inlined]\n",
      "  [4] size\n",
      "    @ .\\array.jl:153 [inlined]\n",
      "  [5] rrule\n",
      "    @ C:\\Users\\tyto4\\.julia\\packages\\ChainRules\\xBWUD\\src\\rulesets\\Base\\nondiff.jl:389 [inlined]\n",
      "  [6] rrule\n",
      "    @ C:\\Users\\tyto4\\.julia\\packages\\ChainRulesCore\\yaGTL\\src\\rules.jl:134 [inlined]\n",
      "  [7] chain_rrule\n",
      "    @ C:\\Users\\tyto4\\.julia\\packages\\Zygote\\FPUm3\\src\\compiler\\chainrules.jl:216 [inlined]\n",
      "  [8] macro expansion\n",
      "    @ C:\\Users\\tyto4\\.julia\\packages\\Zygote\\FPUm3\\src\\compiler\\interface2.jl:0 [inlined]\n",
      "  [9] _pullback\n",
      "    @ C:\\Users\\tyto4\\.julia\\packages\\Zygote\\FPUm3\\src\\compiler\\interface2.jl:9 [inlined]\n",
      " [10] _pullback\n",
      "    @ c:\\Users\\tyto4\\OneDrive\\Desktop\\testattention.ipynb:28 [inlined]\n",
      " [11] _pullback(::Zygote.Context, ::typeof(attention1), ::Array{Float32, 3}, ::Array{Float32, 3}, ::Array{Float32, 3}, ::Nothing, ::Bool, ::Dropout{Float64, Colon})\n",
      "    @ Zygote C:\\Users\\tyto4\\.julia\\packages\\Zygote\\FPUm3\\src\\compiler\\interface2.jl:0\n",
      " [12] _pullback\n",
      "    @ c:\\Users\\tyto4\\OneDrive\\Desktop\\testattention.ipynb:31 [inlined]\n",
      " [13] _pullback(::Zygote.Context, ::var\"##_#8\", ::Nothing, ::MultiheadAttention_1{Dense{typeof(identity), Matrix{Float32}, Vector{Float32}}, Dense{typeof(identity), Matrix{Float32}, Vector{Float32}}, Dense{typeof(identity), Matrix{Float32}, Vector{Float32}}, Dense{typeof(identity), Matrix{Float32}, Vector{Float32}}, Dropout{Float64, Colon}}, ::Array{Float32, 3}, ::Array{Float32, 3}, ::Array{Float32, 3})\n",
      "    @ Zygote C:\\Users\\tyto4\\.julia\\packages\\Zygote\\FPUm3\\src\\compiler\\interface2.jl:0\n",
      " [14] _pullback\n",
      "    @ c:\\Users\\tyto4\\OneDrive\\Desktop\\testattention.ipynb:8 [inlined]\n",
      " [15] _pullback\n",
      "    @ c:\\Users\\tyto4\\OneDrive\\Desktop\\testattention.ipynb:43 [inlined]\n",
      " [16] _pullback(::Zygote.Context, ::Transformer1{MultiheadAttention_1{Dense{typeof(identity), Matrix{Float32}, Vector{Float32}}, Dense{typeof(identity), Matrix{Float32}, Vector{Float32}}, Dense{typeof(identity), Matrix{Float32}, Vector{Float32}}, Dense{typeof(identity), Matrix{Float32}, Vector{Float32}}, Dropout{Float64, Colon}}, LayerNorm{typeof(identity), Flux.Diagonal{Vector{Float32}}, Float32, 1}, PwFFN{Dense{typeof(relu), Matrix{Float32}, Vector{Float32}}, Dense{typeof(identity), Matrix{Float32}, Vector{Float32}}}, LayerNorm{typeof(identity), Flux.Diagonal{Vector{Float32}}, Float32, 1}, Dropout{Float64, Colon}}, ::Array{Float32, 3}, ::Nothing)\n",
      "    @ Zygote C:\\Users\\tyto4\\.julia\\packages\\Zygote\\FPUm3\\src\\compiler\\interface2.jl:0\n",
      " [17] _pullback\n",
      "    @ c:\\Users\\tyto4\\OneDrive\\Desktop\\testattention.ipynb:42 [inlined]\n",
      " [18] _pullback(ctx::Zygote.Context, f::Transformer1{MultiheadAttention_1{Dense{typeof(identity), Matrix{Float32}, Vector{Float32}}, Dense{typeof(identity), Matrix{Float32}, Vector{Float32}}, Dense{typeof(identity), Matrix{Float32}, Vector{Float32}}, Dense{typeof(identity), Matrix{Float32}, Vector{Float32}}, Dropout{Float64, Colon}}, LayerNorm{typeof(identity), Flux.Diagonal{Vector{Float32}}, Float32, 1}, PwFFN{Dense{typeof(relu), Matrix{Float32}, Vector{Float32}}, Dense{typeof(identity), Matrix{Float32}, Vector{Float32}}}, LayerNorm{typeof(identity), Flux.Diagonal{Vector{Float32}}, Float32, 1}, Dropout{Float64, Colon}}, args::Array{Float32, 3})\n",
      "    @ Zygote C:\\Users\\tyto4\\.julia\\packages\\Zygote\\FPUm3\\src\\compiler\\interface2.jl:0\n",
      " [19] _pullback\n",
      "    @ c:\\Users\\tyto4\\OneDrive\\Desktop\\testattention.ipynb:4 [inlined]\n",
      " [20] _pullback(ctx::Zygote.Context, f::typeof(encoder_forward), args::Matrix{Int64})\n",
      "    @ Zygote C:\\Users\\tyto4\\.julia\\packages\\Zygote\\FPUm3\\src\\compiler\\interface2.jl:0\n",
      " [21] _pullback\n",
      "    @ c:\\Users\\tyto4\\OneDrive\\Desktop\\testattention.ipynb:7 [inlined]\n",
      " [22] _pullback(::Zygote.Context, ::typeof(loss), ::Matrix{Int64}, ::Matrix{Int64})\n",
      "    @ Zygote C:\\Users\\tyto4\\.julia\\packages\\Zygote\\FPUm3\\src\\compiler\\interface2.jl:0\n",
      " [23] _pullback\n",
      "    @ c:\\Users\\tyto4\\OneDrive\\Desktop\\testattention.ipynb:11 [inlined]\n",
      " [24] _pullback(::Zygote.Context, ::var\"#23#25\")\n",
      "    @ Zygote C:\\Users\\tyto4\\.julia\\packages\\Zygote\\FPUm3\\src\\compiler\\interface2.jl:0\n",
      " [25] pullback(f::Function, ps::Zygote.Params)\n",
      "    @ Zygote C:\\Users\\tyto4\\.julia\\packages\\Zygote\\FPUm3\\src\\compiler\\interface.jl:352\n",
      " [26] gradient(f::Function, args::Zygote.Params)\n",
      "    @ Zygote C:\\Users\\tyto4\\.julia\\packages\\Zygote\\FPUm3\\src\\compiler\\interface.jl:75\n",
      " [27] train!()\n",
      "    @ Main c:\\Users\\tyto4\\OneDrive\\Desktop\\testattention.ipynb:11\n",
      " [28] top-level scope\n",
      "    @ c:\\Users\\tyto4\\OneDrive\\Desktop\\testattention.ipynb:1\n",
      " [29] eval\n",
      "    @ .\\boot.jl:373 [inlined]\n",
      " [30] include_string(mapexpr::typeof(REPL.softscope), mod::Module, code::String, filename::String)\n",
      "    @ Base .\\loading.jl:1196\n",
      " [31] #invokelatest#2\n",
      "    @ .\\essentials.jl:716 [inlined]\n",
      " [32] invokelatest\n",
      "    @ .\\essentials.jl:714 [inlined]\n",
      " [33] (::VSCodeServer.var\"#158#159\"{VSCodeServer.NotebookRunCellArguments, String})()\n",
      "    @ VSCodeServer c:\\Users\\tyto4\\.vscode\\extensions\\julialang.language-julia-insider-1.6.2\\scripts\\packages\\VSCodeServer\\src\\serve_notebook.jl:18\n",
      " [34] withpath(f::VSCodeServer.var\"#158#159\"{VSCodeServer.NotebookRunCellArguments, String}, path::String)\n",
      "    @ VSCodeServer c:\\Users\\tyto4\\.vscode\\extensions\\julialang.language-julia-insider-1.6.2\\scripts\\packages\\VSCodeServer\\src\\repl.jl:184\n",
      " [35] notebook_runcell_request(conn::VSCodeServer.JSONRPC.JSONRPCEndpoint{Base.PipeEndpoint, Base.PipeEndpoint}, params::VSCodeServer.NotebookRunCellArguments)\n",
      "    @ VSCodeServer c:\\Users\\tyto4\\.vscode\\extensions\\julialang.language-julia-insider-1.6.2\\scripts\\packages\\VSCodeServer\\src\\serve_notebook.jl:14\n",
      " [36] dispatch_msg(x::VSCodeServer.JSONRPC.JSONRPCEndpoint{Base.PipeEndpoint, Base.PipeEndpoint}, dispatcher::VSCodeServer.JSONRPC.MsgDispatcher, msg::Dict{String, Any})\n",
      "    @ VSCodeServer.JSONRPC c:\\Users\\tyto4\\.vscode\\extensions\\julialang.language-julia-insider-1.6.2\\scripts\\packages\\JSONRPC\\src\\typed.jl:67\n",
      " [37] serve_notebook(pipename::String; crashreporting_pipename::String)\n",
      "    @ VSCodeServer c:\\Users\\tyto4\\.vscode\\extensions\\julialang.language-julia-insider-1.6.2\\scripts\\packages\\VSCodeServer\\src\\serve_notebook.jl:95\n",
      " [38] top-level scope\n",
      "    @ c:\\Users\\tyto4\\.vscode\\extensions\\julialang.language-julia-insider-1.6.2\\scripts\\notebook\\notebook.jl:14\n",
      " [39] include(mod::Module, _path::String)\n",
      "    @ Base .\\Base.jl:418\n",
      " [40] exec_options(opts::Base.JLOptions)\n",
      "    @ Base .\\client.jl:292\n",
      " [41] _start()\n",
      "    @ Base .\\client.jl:495"
     ]
    }
   ],
   "source": [
    "train!()"
   ]
  },
  {
   "cell_type": "code",
   "execution_count": 52,
   "metadata": {},
   "outputs": [
    {
     "name": "stdout",
     "output_type": "stream",
     "text": [
      "size(ipq) = (64, 12, 256)\n"
     ]
    },
    {
     "name": "stderr",
     "output_type": "stream",
     "text": [
      "┌ Info: start training\n",
      "└ @ Main c:\\Users\\tyto4\\OneDrive\\Desktop\\testattention.ipynb:5\n"
     ]
    },
    {
     "data": {
      "text/plain": [
       "translate (generic function with 1 method)"
      ]
     },
     "metadata": {},
     "output_type": "display_data"
    }
   ],
   "source": [
    "#erst einmal so lassen, vielleicht einzelne Änderungen\n",
    "function translate(x)\n",
    "    ix = todevice(vocab(preprocess(x)))\n",
    "    seq = [startsym]\n",
    "\n",
    "    enc = encoder_forward(ix)\n",
    "\n",
    "    len = length(ix)\n",
    "    for i = 1:2len\n",
    "        trg = todevice(vocab(seq))\n",
    "        dec = decoder_forward(trg, enc)\n",
    "        #move back to gpu due to argmax wrong result on CuArrays\n",
    "        ntok = onecold(collect(dec), labels)\n",
    "        push!(seq, ntok[end])\n",
    "        ntok[end] == endsym && break\n",
    "    end\n",
    "  seq[2:end-1]\n",
    "end"
   ]
  },
  {
   "cell_type": "code",
   "execution_count": 53,
   "metadata": {},
   "outputs": [
    {
     "ename": "UndefVarError",
     "evalue": "UndefVarError: mh not defined",
     "output_type": "error",
     "traceback": [
      "UndefVarError: mh not defined\n",
      "\n",
      "Stacktrace:\n",
      "  [1] attention1(query::Array{Float32, 3}, key::Array{Float32, 3}, value::Array{Float32, 3}, mask::Nothing, future::Bool, dropout::Dropout{Float64, Colon})\n",
      "    @ Main c:\\Users\\tyto4\\OneDrive\\Desktop\\testattention.ipynb:30\n",
      "  [2] (::MultiheadAttention_1{Dense{typeof(identity), Matrix{Float32}, Vector{Float32}}, Dense{typeof(identity), Matrix{Float32}, Vector{Float32}}, Dense{typeof(identity), Matrix{Float32}, Vector{Float32}}, Dense{typeof(identity), Matrix{Float32}, Vector{Float32}}, Dropout{Float64, Colon}})(query::Matrix{Float32}, key::Matrix{Float32}, value::Matrix{Float32}; mask::Nothing)\n",
      "    @ Main c:\\Users\\tyto4\\OneDrive\\Desktop\\testattention.ipynb:64\n",
      "  [3] (::Transformer1{MultiheadAttention_1{Dense{typeof(identity), Matrix{Float32}, Vector{Float32}}, Dense{typeof(identity), Matrix{Float32}, Vector{Float32}}, Dense{typeof(identity), Matrix{Float32}, Vector{Float32}}, Dense{typeof(identity), Matrix{Float32}, Vector{Float32}}, Dropout{Float64, Colon}}, LayerNorm{typeof(identity), Flux.Diagonal{Vector{Float32}}, Float32, 1}, PwFFN{Dense{typeof(relu), Matrix{Float32}, Vector{Float32}}, Dense{typeof(identity), Matrix{Float32}, Vector{Float32}}}, LayerNorm{typeof(identity), Flux.Diagonal{Vector{Float32}}, Float32, 1}, Dropout{Float64, Colon}})(x::Matrix{Float32}, mask::Nothing)\n",
      "    @ Main c:\\Users\\tyto4\\OneDrive\\Desktop\\testattention.ipynb:43\n",
      "  [4] (::Transformer1{MultiheadAttention_1{Dense{typeof(identity), Matrix{Float32}, Vector{Float32}}, Dense{typeof(identity), Matrix{Float32}, Vector{Float32}}, Dense{typeof(identity), Matrix{Float32}, Vector{Float32}}, Dense{typeof(identity), Matrix{Float32}, Vector{Float32}}, Dropout{Float64, Colon}}, LayerNorm{typeof(identity), Flux.Diagonal{Vector{Float32}}, Float32, 1}, PwFFN{Dense{typeof(relu), Matrix{Float32}, Vector{Float32}}, Dense{typeof(identity), Matrix{Float32}, Vector{Float32}}}, LayerNorm{typeof(identity), Flux.Diagonal{Vector{Float32}}, Float32, 1}, Dropout{Float64, Colon}})(x::Matrix{Float32})\n",
      "    @ Main c:\\Users\\tyto4\\OneDrive\\Desktop\\testattention.ipynb:42\n",
      "  [5] encoder_forward(x::Vector{Int64})\n",
      "    @ Main c:\\Users\\tyto4\\OneDrive\\Desktop\\testattention.ipynb:4\n",
      "  [6] translate(x::Vector{String})\n",
      "    @ Main c:\\Users\\tyto4\\OneDrive\\Desktop\\testattention.ipynb:6\n",
      "  [7] top-level scope\n",
      "    @ c:\\Users\\tyto4\\OneDrive\\Desktop\\testattention.ipynb:1\n",
      "  [8] eval\n",
      "    @ .\\boot.jl:373 [inlined]\n",
      "  [9] include_string(mapexpr::typeof(REPL.softscope), mod::Module, code::String, filename::String)\n",
      "    @ Base .\\loading.jl:1196\n",
      " [10] #invokelatest#2\n",
      "    @ .\\essentials.jl:716 [inlined]\n",
      " [11] invokelatest\n",
      "    @ .\\essentials.jl:714 [inlined]\n",
      " [12] (::VSCodeServer.var\"#158#159\"{VSCodeServer.NotebookRunCellArguments, String})()\n",
      "    @ VSCodeServer c:\\Users\\tyto4\\.vscode\\extensions\\julialang.language-julia-insider-1.6.2\\scripts\\packages\\VSCodeServer\\src\\serve_notebook.jl:18\n",
      " [13] withpath(f::VSCodeServer.var\"#158#159\"{VSCodeServer.NotebookRunCellArguments, String}, path::String)\n",
      "    @ VSCodeServer c:\\Users\\tyto4\\.vscode\\extensions\\julialang.language-julia-insider-1.6.2\\scripts\\packages\\VSCodeServer\\src\\repl.jl:184\n",
      " [14] notebook_runcell_request(conn::VSCodeServer.JSONRPC.JSONRPCEndpoint{Base.PipeEndpoint, Base.PipeEndpoint}, params::VSCodeServer.NotebookRunCellArguments)\n",
      "    @ VSCodeServer c:\\Users\\tyto4\\.vscode\\extensions\\julialang.language-julia-insider-1.6.2\\scripts\\packages\\VSCodeServer\\src\\serve_notebook.jl:14\n",
      " [15] dispatch_msg(x::VSCodeServer.JSONRPC.JSONRPCEndpoint{Base.PipeEndpoint, Base.PipeEndpoint}, dispatcher::VSCodeServer.JSONRPC.MsgDispatcher, msg::Dict{String, Any})\n",
      "    @ VSCodeServer.JSONRPC c:\\Users\\tyto4\\.vscode\\extensions\\julialang.language-julia-insider-1.6.2\\scripts\\packages\\JSONRPC\\src\\typed.jl:67\n",
      " [16] serve_notebook(pipename::String; crashreporting_pipename::String)\n",
      "    @ VSCodeServer c:\\Users\\tyto4\\.vscode\\extensions\\julialang.language-julia-insider-1.6.2\\scripts\\packages\\VSCodeServer\\src\\serve_notebook.jl:95\n",
      " [17] top-level scope\n",
      "    @ c:\\Users\\tyto4\\.vscode\\extensions\\julialang.language-julia-insider-1.6.2\\scripts\\notebook\\notebook.jl:14\n",
      " [18] include(mod::Module, _path::String)\n",
      "    @ Base .\\Base.jl:418\n",
      " [19] exec_options(opts::Base.JLOptions)\n",
      "    @ Base .\\client.jl:292\n",
      " [20] _start()\n",
      "    @ Base .\\client.jl:495"
     ]
    }
   ],
   "source": [
    "translate(map(string, [5,5,6,6,1,12,3,4,6]))"
   ]
  }
 ],
 "metadata": {
  "kernelspec": {
   "display_name": "Julia 1.7.2",
   "language": "julia",
   "name": "julia-1.7"
  },
  "language_info": {
   "file_extension": ".jl",
   "mimetype": "application/julia",
   "name": "julia",
   "version": "1.7.2"
  },
  "orig_nbformat": 4
 },
 "nbformat": 4,
 "nbformat_minor": 2
}
